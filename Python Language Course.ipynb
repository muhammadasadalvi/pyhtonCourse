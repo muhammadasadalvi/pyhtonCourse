{
 "cells": [
  {
   "cell_type": "markdown",
   "metadata": {},
   "source": [
    "# Python Language Course"
   ]
  },
  {
   "cell_type": "markdown",
   "metadata": {},
   "source": [
    "Python is high-level, interpreted programming language. Python code is easy to read and syntax is simple. Python language has broad category of fields like\n",
    "* data science \n",
    "* machine learning\n",
    "* artificial inteligence\n",
    "* Web development\n",
    "* Image processing \n",
    "* Operating system \n",
    "\n",
    "there are two version of python available in market, python 2.7 and python3. python3 does not suppport version 2.7 and to keep update we have to use python3"
   ]
  },
  {
   "cell_type": "markdown",
   "metadata": {},
   "source": [
    "# print statement"
   ]
  },
  {
   "cell_type": "markdown",
   "metadata": {},
   "source": [
    "python print statement is used to print the data onto screen. let's take some examples of print statement"
   ]
  },
  {
   "cell_type": "code",
   "execution_count": 1,
   "metadata": {},
   "outputs": [
    {
     "name": "stdout",
     "output_type": "stream",
     "text": [
      "muhammad asad\n"
     ]
    }
   ],
   "source": [
    "print(\"muhammad asad\")"
   ]
  },
  {
   "cell_type": "code",
   "execution_count": 6,
   "metadata": {},
   "outputs": [
    {
     "name": "stdout",
     "output_type": "stream",
     "text": [
      "Muhammad Asad\n",
      "Software Engineer\n"
     ]
    }
   ],
   "source": [
    "print(\"Muhammad Asad\",end=\"\\n\")\n",
    "print(\"Software Engineer\")"
   ]
  },
  {
   "cell_type": "code",
   "execution_count": 8,
   "metadata": {},
   "outputs": [
    {
     "name": "stdout",
     "output_type": "stream",
     "text": [
      "Muhammad Asad Software Engineer\n"
     ]
    }
   ],
   "source": [
    "# we take the same example but use space to end\n",
    "print(\"Muhammad Asad\",end=\" \")\n",
    "print(\"Software Engineer\")"
   ]
  },
  {
   "cell_type": "markdown",
   "metadata": {},
   "source": [
    "# Data Types"
   ]
  },
  {
   "cell_type": "markdown",
   "metadata": {},
   "source": [
    "there are three main data types\n",
    "1. Numbers\n",
    "2. String\n",
    "3. Booleans"
   ]
  },
  {
   "cell_type": "markdown",
   "metadata": {},
   "source": [
    "# Variable"
   ]
  },
  {
   "cell_type": "markdown",
   "metadata": {},
   "source": [
    "variable mean whose values can change or variable can store any data type in python, because in python there is not data type define while initializing the variable. variables are mutable\n",
    "\n",
    "the two terms usually uses in python \n",
    "1. mutable \n",
    "2. immutable\n",
    "\n",
    "mutable which can be changed\n",
    "\n",
    "immuatable which cannot be change once defined"
   ]
  },
  {
   "cell_type": "markdown",
   "metadata": {},
   "source": [
    "## Naming conventions for variable"
   ]
  },
  {
   "cell_type": "markdown",
   "metadata": {},
   "source": [
    "* variable name can start with _ (underscore) or underscore can be used at any place\n",
    "* variable may contain numbers but not at the start\n",
    "* variable name cannot contain white spaces\n"
   ]
  },
  {
   "cell_type": "markdown",
   "metadata": {},
   "source": [
    "# Numbers - data type"
   ]
  },
  {
   "cell_type": "markdown",
   "metadata": {},
   "source": [
    "there are three type of numbers\n",
    "* integers\n",
    "* floating point numbers\n",
    "* complex numbers"
   ]
  },
  {
   "cell_type": "markdown",
   "metadata": {},
   "source": [
    "## Integers\n",
    "integers contains positive and negative whole numbers like 1, 1000, -987 etc.\n",
    "\n",
    "take 24 bytes in memory"
   ]
  },
  {
   "cell_type": "code",
   "execution_count": 9,
   "metadata": {},
   "outputs": [
    {
     "name": "stdout",
     "output_type": "stream",
     "text": [
      "767\n"
     ]
    }
   ],
   "source": [
    "print(767)"
   ]
  },
  {
   "cell_type": "code",
   "execution_count": 11,
   "metadata": {},
   "outputs": [
    {
     "data": {
      "text/plain": [
       "int"
      ]
     },
     "execution_count": 11,
     "metadata": {},
     "output_type": "execute_result"
    }
   ],
   "source": [
    "# we can check the type of number above\n",
    "type(878)"
   ]
  },
  {
   "cell_type": "markdown",
   "metadata": {},
   "source": [
    "## Floating Point Numbers \n",
    "numbers contains decimal points called floating point numbers.  take 24 bytes in memory"
   ]
  },
  {
   "cell_type": "code",
   "execution_count": 12,
   "metadata": {},
   "outputs": [
    {
     "name": "stdout",
     "output_type": "stream",
     "text": [
      "0.99\n"
     ]
    }
   ],
   "source": [
    "print(0.99)"
   ]
  },
  {
   "cell_type": "code",
   "execution_count": 13,
   "metadata": {},
   "outputs": [
    {
     "data": {
      "text/plain": [
       "float"
      ]
     },
     "execution_count": 13,
     "metadata": {},
     "output_type": "execute_result"
    }
   ],
   "source": [
    "type(0.99)"
   ]
  },
  {
   "cell_type": "markdown",
   "metadata": {},
   "source": [
    "## complex numbers\n",
    "complex numbers are those which contains real part + imaginary part like 10+9i is imaginary number or complex number\n",
    "\n",
    "take 32 bytes in memory"
   ]
  },
  {
   "cell_type": "code",
   "execution_count": 15,
   "metadata": {},
   "outputs": [],
   "source": [
    "x=complex(9,10)"
   ]
  },
  {
   "cell_type": "code",
   "execution_count": 16,
   "metadata": {},
   "outputs": [
    {
     "name": "stdout",
     "output_type": "stream",
     "text": [
      "(9+10j)\n"
     ]
    }
   ],
   "source": [
    "print(x)"
   ]
  },
  {
   "cell_type": "code",
   "execution_count": 17,
   "metadata": {},
   "outputs": [
    {
     "data": {
      "text/plain": [
       "complex"
      ]
     },
     "execution_count": 17,
     "metadata": {},
     "output_type": "execute_result"
    }
   ],
   "source": [
    "type(x)"
   ]
  },
  {
   "cell_type": "markdown",
   "metadata": {},
   "source": [
    "## Boolean"
   ]
  },
  {
   "cell_type": "markdown",
   "metadata": {},
   "source": [
    "Boolean or bool data type allows you to choose between __True or Flase__"
   ]
  },
  {
   "cell_type": "code",
   "execution_count": 18,
   "metadata": {},
   "outputs": [
    {
     "name": "stdout",
     "output_type": "stream",
     "text": [
      "True\n"
     ]
    }
   ],
   "source": [
    "print(True)"
   ]
  },
  {
   "cell_type": "code",
   "execution_count": 19,
   "metadata": {},
   "outputs": [
    {
     "data": {
      "text/plain": [
       "bool"
      ]
     },
     "execution_count": 19,
     "metadata": {},
     "output_type": "execute_result"
    }
   ],
   "source": [
    "type(True)"
   ]
  },
  {
   "cell_type": "markdown",
   "metadata": {},
   "source": [
    "# Strings"
   ]
  },
  {
   "cell_type": "markdown",
   "metadata": {},
   "source": [
    "string is a set of character enclose in single or double quotes "
   ]
  },
  {
   "cell_type": "code",
   "execution_count": 20,
   "metadata": {},
   "outputs": [
    {
     "name": "stdout",
     "output_type": "stream",
     "text": [
      "Hello World\n"
     ]
    },
    {
     "data": {
      "text/plain": [
       "str"
      ]
     },
     "execution_count": 20,
     "metadata": {},
     "output_type": "execute_result"
    }
   ],
   "source": [
    "print(\"Hello World\")\n",
    "type(\"Hello Worls\")"
   ]
  },
  {
   "cell_type": "markdown",
   "metadata": {},
   "source": [
    "## String Indexing"
   ]
  },
  {
   "cell_type": "code",
   "execution_count": 21,
   "metadata": {},
   "outputs": [],
   "source": [
    "name=\"Muhammad Asad\""
   ]
  },
  {
   "cell_type": "code",
   "execution_count": 22,
   "metadata": {},
   "outputs": [
    {
     "data": {
      "text/plain": [
       "'M'"
      ]
     },
     "execution_count": 22,
     "metadata": {},
     "output_type": "execute_result"
    }
   ],
   "source": [
    "name[0]"
   ]
  },
  {
   "cell_type": "code",
   "execution_count": 23,
   "metadata": {},
   "outputs": [
    {
     "data": {
      "text/plain": [
       "'Mu'"
      ]
     },
     "execution_count": 23,
     "metadata": {},
     "output_type": "execute_result"
    }
   ],
   "source": [
    "name[0:2]"
   ]
  },
  {
   "cell_type": "code",
   "execution_count": 29,
   "metadata": {},
   "outputs": [
    {
     "data": {
      "text/plain": [
       "'Mhma sd'"
      ]
     },
     "execution_count": 29,
     "metadata": {},
     "output_type": "execute_result"
    }
   ],
   "source": [
    "name[0::2] # interval is two"
   ]
  },
  {
   "cell_type": "code",
   "execution_count": 30,
   "metadata": {},
   "outputs": [
    {
     "data": {
      "text/plain": [
       "'d'"
      ]
     },
     "execution_count": 30,
     "metadata": {},
     "output_type": "execute_result"
    }
   ],
   "source": [
    "# negative indexing\n",
    "name[-1]"
   ]
  },
  {
   "cell_type": "code",
   "execution_count": 31,
   "metadata": {},
   "outputs": [
    {
     "data": {
      "text/plain": [
       "'dasA dammahuM'"
      ]
     },
     "execution_count": 31,
     "metadata": {},
     "output_type": "execute_result"
    }
   ],
   "source": [
    "# reverse printin\n",
    "name[::-1]"
   ]
  },
  {
   "cell_type": "code",
   "execution_count": 44,
   "metadata": {},
   "outputs": [
    {
     "data": {
      "text/plain": [
       "'Muhammad'"
      ]
     },
     "execution_count": 44,
     "metadata": {},
     "output_type": "execute_result"
    }
   ],
   "source": [
    "name[:8]"
   ]
  },
  {
   "cell_type": "code",
   "execution_count": 46,
   "metadata": {},
   "outputs": [
    {
     "data": {
      "text/plain": [
       "'Muh'"
      ]
     },
     "execution_count": 46,
     "metadata": {},
     "output_type": "execute_result"
    }
   ],
   "source": [
    "name[:3]"
   ]
  },
  {
   "cell_type": "markdown",
   "metadata": {},
   "source": [
    "### string methods\n"
   ]
  },
  {
   "cell_type": "code",
   "execution_count": 32,
   "metadata": {},
   "outputs": [
    {
     "data": {
      "text/plain": [
       "13"
      ]
     },
     "execution_count": 32,
     "metadata": {},
     "output_type": "execute_result"
    }
   ],
   "source": [
    "# string length\n",
    "len(name)"
   ]
  },
  {
   "cell_type": "code",
   "execution_count": 40,
   "metadata": {},
   "outputs": [
    {
     "data": {
      "text/plain": [
       "'MUHAMMAD ASAD'"
      ]
     },
     "execution_count": 40,
     "metadata": {},
     "output_type": "execute_result"
    }
   ],
   "source": [
    "name.upper()"
   ]
  },
  {
   "cell_type": "code",
   "execution_count": 41,
   "metadata": {},
   "outputs": [
    {
     "data": {
      "text/plain": [
       "'muhammad asad'"
      ]
     },
     "execution_count": 41,
     "metadata": {},
     "output_type": "execute_result"
    }
   ],
   "source": [
    "name.lower()"
   ]
  },
  {
   "cell_type": "code",
   "execution_count": 43,
   "metadata": {},
   "outputs": [
    {
     "data": {
      "text/plain": [
       "3"
      ]
     },
     "execution_count": 43,
     "metadata": {},
     "output_type": "execute_result"
    }
   ],
   "source": [
    "name.count('a') # return count of a in string"
   ]
  },
  {
   "cell_type": "markdown",
   "metadata": {},
   "source": [
    "# Operations"
   ]
  },
  {
   "cell_type": "code",
   "execution_count": 63,
   "metadata": {},
   "outputs": [
    {
     "name": "stdout",
     "output_type": "stream",
     "text": [
      "addition= 1\n",
      "subtraction= 19\n",
      "multiplication= -90\n",
      "division= -1.1111111111111112\n",
      "floor division= 3\n",
      "modulus= 0\n",
      "precedence  48.5\n",
      "50.0\n"
     ]
    }
   ],
   "source": [
    "# addition \n",
    "a=10\n",
    "b=-9\n",
    "print(\"addition=\",a+b)\n",
    "\n",
    "#subtraciton\n",
    "print(\"subtraction=\",a-b)\n",
    "\n",
    "# multiplication\n",
    "print(\"multiplication=\",a*b)\n",
    "\n",
    "# division\n",
    "print(\"division=\",a/b)\n",
    "\n",
    "# floor division\n",
    "print(\"floor division=\",13//4)\n",
    "\n",
    "# mudulus\n",
    "print(\"modulus=\",16%4)\n",
    "\n",
    "# precedence\n",
    "print(\"precedence \",10-9+19*5/2) #multiplication >> division >> addition >> subtraction\n",
    "\n",
    "# to avoid error in calculation we can use paranthesis\n",
    "print(2*((10*2)+(10/2)))"
   ]
  },
  {
   "cell_type": "markdown",
   "metadata": {},
   "source": [
    "# Comparison operators"
   ]
  },
  {
   "cell_type": "markdown",
   "metadata": {},
   "source": [
    "there are some comparison operators like >, <, >=,<=,!= also __is__ , __is not__"
   ]
  },
  {
   "cell_type": "code",
   "execution_count": 71,
   "metadata": {},
   "outputs": [
    {
     "name": "stdout",
     "output_type": "stream",
     "text": [
      "False\n",
      "True\n",
      "True\n",
      "False\n",
      "False\n"
     ]
    }
   ],
   "source": [
    "# we can comparison between numbers\n",
    "\n",
    "x=10\n",
    "y=100\n",
    "\n",
    "print(x>y) # return true or false\n",
    "print(x<=y)\n",
    "print(x!=y)\n",
    "print(x>=y)\n",
    "print(x is y) # return true if equal"
   ]
  },
  {
   "cell_type": "markdown",
   "metadata": {},
   "source": [
    "# Assignment Operator\n",
    "\n",
    "**=** is consider as assignment operator"
   ]
  },
  {
   "cell_type": "code",
   "execution_count": 79,
   "metadata": {},
   "outputs": [],
   "source": [
    "a= 10 # 10 is assigned to a"
   ]
  },
  {
   "cell_type": "code",
   "execution_count": 80,
   "metadata": {},
   "outputs": [
    {
     "data": {
      "text/plain": [
       "10"
      ]
     },
     "execution_count": 80,
     "metadata": {},
     "output_type": "execute_result"
    }
   ],
   "source": [
    "a"
   ]
  },
  {
   "cell_type": "code",
   "execution_count": 81,
   "metadata": {},
   "outputs": [
    {
     "data": {
      "text/plain": [
       "20"
      ]
     },
     "execution_count": 81,
     "metadata": {},
     "output_type": "execute_result"
    }
   ],
   "source": [
    "# add and assign\n",
    "a+=10 # actually it is a=a+10\n",
    "a"
   ]
  },
  {
   "cell_type": "code",
   "execution_count": 83,
   "metadata": {},
   "outputs": [
    {
     "data": {
      "text/plain": [
       "10"
      ]
     },
     "execution_count": 83,
     "metadata": {},
     "output_type": "execute_result"
    }
   ],
   "source": [
    "b=20\n",
    "# subtract and assign\n",
    "b-=10\n",
    "b"
   ]
  },
  {
   "cell_type": "code",
   "execution_count": 84,
   "metadata": {},
   "outputs": [
    {
     "data": {
      "text/plain": [
       "40"
      ]
     },
     "execution_count": 84,
     "metadata": {},
     "output_type": "execute_result"
    }
   ],
   "source": [
    "c=20\n",
    "# subtract and assign\n",
    "c*=2\n",
    "c"
   ]
  },
  {
   "cell_type": "code",
   "execution_count": 85,
   "metadata": {},
   "outputs": [
    {
     "data": {
      "text/plain": [
       "2.0"
      ]
     },
     "execution_count": 85,
     "metadata": {},
     "output_type": "execute_result"
    }
   ],
   "source": [
    "d=20\n",
    "# divide and assign\n",
    "d/=10\n",
    "d"
   ]
  },
  {
   "cell_type": "code",
   "execution_count": 86,
   "metadata": {},
   "outputs": [
    {
     "data": {
      "text/plain": [
       "2"
      ]
     },
     "execution_count": 86,
     "metadata": {},
     "output_type": "execute_result"
    }
   ],
   "source": [
    "e=20\n",
    "# floor division and assign\n",
    "e//=10\n",
    "e"
   ]
  },
  {
   "cell_type": "code",
   "execution_count": 88,
   "metadata": {},
   "outputs": [
    {
     "data": {
      "text/plain": [
       "1024"
      ]
     },
     "execution_count": 88,
     "metadata": {},
     "output_type": "execute_result"
    }
   ],
   "source": [
    "f=2\n",
    "# power and assign\n",
    "f**=10 # 2 to the power of 10 \n",
    "f"
   ]
  },
  {
   "cell_type": "code",
   "execution_count": 89,
   "metadata": {},
   "outputs": [
    {
     "data": {
      "text/plain": [
       "0"
      ]
     },
     "execution_count": 89,
     "metadata": {},
     "output_type": "execute_result"
    }
   ],
   "source": [
    "f=20\n",
    "# modulus and assign\n",
    "f%=10\n",
    "f"
   ]
  },
  {
   "cell_type": "markdown",
   "metadata": {},
   "source": [
    "# Logical Expressions"
   ]
  },
  {
   "cell_type": "markdown",
   "metadata": {},
   "source": [
    "there are three logical expressions \n",
    "* and\n",
    "* or\n",
    "* not"
   ]
  },
  {
   "cell_type": "code",
   "execution_count": 94,
   "metadata": {},
   "outputs": [
    {
     "data": {
      "text/plain": [
       "False"
      ]
     },
     "execution_count": 94,
     "metadata": {},
     "output_type": "execute_result"
    }
   ],
   "source": [
    "a=True # True=1 Flase=0\n",
    "b=False\n",
    "\n",
    "a and b "
   ]
  },
  {
   "cell_type": "code",
   "execution_count": 95,
   "metadata": {},
   "outputs": [
    {
     "data": {
      "text/plain": [
       "True"
      ]
     },
     "execution_count": 95,
     "metadata": {},
     "output_type": "execute_result"
    }
   ],
   "source": [
    "a or b "
   ]
  },
  {
   "cell_type": "code",
   "execution_count": 96,
   "metadata": {},
   "outputs": [
    {
     "data": {
      "text/plain": [
       "True"
      ]
     },
     "execution_count": 96,
     "metadata": {},
     "output_type": "execute_result"
    }
   ],
   "source": [
    "not b "
   ]
  },
  {
   "cell_type": "markdown",
   "metadata": {},
   "source": [
    "# Bitwise operation"
   ]
  },
  {
   "cell_type": "markdown",
   "metadata": {},
   "source": [
    "bitwise operation mean answer will be according to bits\n",
    "\n",
    "like<br>\n",
    "2 >> 10 <br>\n",
    "3 >> 11\n"
   ]
  },
  {
   "cell_type": "code",
   "execution_count": 99,
   "metadata": {},
   "outputs": [],
   "source": [
    "num1=10 # 01010\n",
    "num2=20 # 10100"
   ]
  },
  {
   "cell_type": "code",
   "execution_count": 105,
   "metadata": {},
   "outputs": [
    {
     "data": {
      "text/plain": [
       "5"
      ]
     },
     "execution_count": 105,
     "metadata": {},
     "output_type": "execute_result"
    }
   ],
   "source": [
    "num1 & num2 # and bitwise operator\n",
    "num1 | num2 # or \n",
    "~num1 # not \n",
    "num1 << 3 # shift bits left\n",
    "num2 >> 2 # shift bits right\n"
   ]
  },
  {
   "cell_type": "markdown",
   "metadata": {},
   "source": [
    "# String Operations \n",
    "\n",
    "we can compare two strings at the backend we are comparing uni codes of strings. \n"
   ]
  },
  {
   "cell_type": "code",
   "execution_count": 107,
   "metadata": {},
   "outputs": [
    {
     "data": {
      "text/plain": [
       "'asadasad'"
      ]
     },
     "execution_count": 107,
     "metadata": {},
     "output_type": "execute_result"
    }
   ],
   "source": [
    "a='asad'\n",
    "a+a # + is used to concatenate the strings"
   ]
  },
  {
   "cell_type": "code",
   "execution_count": 109,
   "metadata": {},
   "outputs": [
    {
     "data": {
      "text/plain": [
       "'asadasadasadasad'"
      ]
     },
     "execution_count": 109,
     "metadata": {},
     "output_type": "execute_result"
    }
   ],
   "source": [
    "a*4 # to multiply the number to string return that number of times string"
   ]
  },
  {
   "cell_type": "code",
   "execution_count": 111,
   "metadata": {},
   "outputs": [
    {
     "data": {
      "text/plain": [
       "False"
      ]
     },
     "execution_count": 111,
     "metadata": {},
     "output_type": "execute_result"
    }
   ],
   "source": [
    "x=\"pakistan Zindabad\"\n",
    "y=\"zindabad\"\n",
    "\n",
    "x in y"
   ]
  },
  {
   "cell_type": "code",
   "execution_count": 113,
   "metadata": {},
   "outputs": [
    {
     "data": {
      "text/plain": [
       "False"
      ]
     },
     "execution_count": 113,
     "metadata": {},
     "output_type": "execute_result"
    }
   ],
   "source": [
    "y in x # to search wethear this  string exist in other string "
   ]
  },
  {
   "cell_type": "code",
   "execution_count": 116,
   "metadata": {},
   "outputs": [
    {
     "data": {
      "text/plain": [
       "5.25"
      ]
     },
     "execution_count": 116,
     "metadata": {},
     "output_type": "execute_result"
    }
   ],
   "source": [
    "x = 20\n",
    "y = 5\n",
    "result = (x + True) / (4 - y * False)\n",
    "result"
   ]
  },
  {
   "cell_type": "markdown",
   "metadata": {},
   "source": [
    "# Conditional Statements"
   ]
  },
  {
   "cell_type": "markdown",
   "metadata": {},
   "source": [
    "conditional statements are those which works on boolean values like if condition is true then run the block of code otherwise not or run another block of code. \n"
   ]
  },
  {
   "cell_type": "code",
   "execution_count": 117,
   "metadata": {},
   "outputs": [
    {
     "name": "stdout",
     "output_type": "stream",
     "text": [
      "condition is true\n"
     ]
    }
   ],
   "source": [
    "# if statement\n",
    "\n",
    "if True:\n",
    "    print(\"condition is true\")"
   ]
  },
  {
   "cell_type": "code",
   "execution_count": 118,
   "metadata": {},
   "outputs": [
    {
     "name": "stdout",
     "output_type": "stream",
     "text": [
      "condition is true\n"
     ]
    }
   ],
   "source": [
    "if 10>1:\n",
    "    print(\"condition is true\")"
   ]
  },
  {
   "cell_type": "markdown",
   "metadata": {},
   "source": [
    "__there are three type of conditional statements in python__\n",
    "* __if__\n",
    "* __if else__\n",
    "* __if elif else__"
   ]
  },
  {
   "cell_type": "markdown",
   "metadata": {},
   "source": [
    "example 1"
   ]
  },
  {
   "cell_type": "code",
   "execution_count": 122,
   "metadata": {},
   "outputs": [
    {
     "name": "stdout",
     "output_type": "stream",
     "text": [
      "enter your marks 0 to 100: 60\n",
      "fail\n"
     ]
    }
   ],
   "source": [
    "marks=int(input(\"enter your marks 0 to 100: \"))\n",
    "if marks>90:\n",
    "    print(\"A+\")\n",
    "elif marks>80:\n",
    "    print(\"A\")\n",
    "else:\n",
    "    print(\"Fail\")"
   ]
  },
  {
   "cell_type": "markdown",
   "metadata": {},
   "source": [
    "example 2"
   ]
  },
  {
   "cell_type": "code",
   "execution_count": 129,
   "metadata": {},
   "outputs": [
    {
     "name": "stdout",
     "output_type": "stream",
     "text": [
      "enter your marks 0 to 100: 90\n",
      "A\n"
     ]
    }
   ],
   "source": [
    "# take the same example by using logical operators\n",
    "# else is not necessary in python while using elif statement\n",
    "\n",
    "marks=int(input(\"enter your marks 0 to 100: \"))\n",
    "if marks>90 and marks<100:\n",
    "    print(\"A+\")\n",
    "elif marks>80 and marks <= 90:\n",
    "    print(\"A\")\n",
    "else:\n",
    "    print(\"Fail\")"
   ]
  },
  {
   "cell_type": "code",
   "execution_count": 126,
   "metadata": {},
   "outputs": [
    {
     "name": "stdout",
     "output_type": "stream",
     "text": [
      "number is in between 0 and 20\n"
     ]
    }
   ],
   "source": [
    "# example \n",
    "\n",
    "num=10\n",
    "# nested statement\n",
    "if num>=0:\n",
    "    if num<=20:\n",
    "        print(\"number is in between 0 and 20\")"
   ]
  },
  {
   "cell_type": "markdown",
   "metadata": {},
   "source": [
    "# Problem Statement in course\n",
    "In this challenge, you must discount a price according to its value.\n",
    "\n",
    "If the price is 300 or above, there will be a 30% discount.\n",
    "\n",
    "If the price is between 200 and 300 (200 inclusive), there will be a 20% discount.\n",
    "\n",
    "If the price is between 100 and 200 (100 inclusive), there will be a 10% discount.\n",
    "\n",
    "If the price is less than 100, there will be a 5% discount.\n",
    "\n",
    "If the price is negative, there will be no discount."
   ]
  },
  {
   "cell_type": "markdown",
   "metadata": {},
   "source": [
    "__Task:__\n",
    "\n",
    "__This is a simple problem related to all the conditional statements we’ve covered. The price variable has already been created. You can use it in your code and assign it a new value based on the discount.__"
   ]
  },
  {
   "cell_type": "code",
   "execution_count": 4,
   "metadata": {},
   "outputs": [
    {
     "name": "stdout",
     "output_type": "stream",
     "text": [
      "enter price: 200\n",
      "20% discount\n",
      "your price is  160.0\n"
     ]
    }
   ],
   "source": [
    "price=int(input(\"enter price: \"))\n",
    "price_with_discount=0\n",
    "\n",
    "if price>=300:\n",
    "    price_with_discount=price -price*0.30\n",
    "    print(\"30% discount\\nyour price is \",price_with_discount)\n",
    "elif price>=200 and price<300:\n",
    "    price_with_discount=price -price*0.20\n",
    "    print(\"20% discount\\nyour price is \",price_with_discount)\n",
    "elif price>=100 and price<200:\n",
    "    price_with_discount=price - price*0.10\n",
    "    print(\"10% discount\\nyour price is \",price_with_discount)\n",
    "elif price<100:\n",
    "    price_with_discount=price -price*0.05\n",
    "    print(\"5% discount\\nyour price is \",price_with_discount)\n",
    "elif price<0:\n",
    "    print(\"No discount\")\n",
    "    "
   ]
  },
  {
   "cell_type": "markdown",
   "metadata": {},
   "source": [
    "# Functions"
   ]
  },
  {
   "cell_type": "markdown",
   "metadata": {},
   "source": [
    "Function are the block of code which runs when called. This piece of code performs performs specific task and this specific task can be called when needed. in simple we can use function any time other than writing code again and again. "
   ]
  },
  {
   "cell_type": "code",
   "execution_count": 10,
   "metadata": {},
   "outputs": [
    {
     "name": "stdout",
     "output_type": "stream",
     "text": [
      "sum of two numbers: 22\n"
     ]
    }
   ],
   "source": [
    "# this function will take two arguments and return sum of two numbers\n",
    "def sum_of_two_numbers(a,b):\n",
    "    return a+b\n",
    "\n",
    "sum_ = sum_of_two_numbers(12,10)\n",
    "print(\"sum of two numbers:\",sum_)\n",
    "\n",
    "    "
   ]
  },
  {
   "cell_type": "markdown",
   "metadata": {},
   "source": [
    "__python also use local and global variable concept like if you defined variable inside the function you cannot called it from outside function rather it is defined outside.__ if you done this program will show an error"
   ]
  },
  {
   "cell_type": "code",
   "execution_count": 28,
   "metadata": {},
   "outputs": [],
   "source": [
    "name='Asad'\n",
    "def name():\n",
    "    name='asad'\n",
    "    return name"
   ]
  },
  {
   "cell_type": "code",
   "execution_count": null,
   "metadata": {},
   "outputs": [],
   "source": [
    "print(name())"
   ]
  },
  {
   "cell_type": "markdown",
   "metadata": {},
   "source": [
    "__if the mutable data types are passed to the function then we can change that. in case of immutable data types like tuple etc cannot be changed at all__"
   ]
  },
  {
   "cell_type": "markdown",
   "metadata": {},
   "source": [
    "# Built-in functions "
   ]
  },
  {
   "cell_type": "markdown",
   "metadata": {},
   "source": [
    " __sub-string__\n"
   ]
  },
  {
   "cell_type": "code",
   "execution_count": 5,
   "metadata": {},
   "outputs": [
    {
     "name": "stdout",
     "output_type": "stream",
     "text": [
      "8\n",
      "-1\n"
     ]
    }
   ],
   "source": [
    "# find() mehtod is used to find the substring in the original string\n",
    "\n",
    "string=\"my name is asad\"\n",
    "print(string.find('is')) # this will return the lowest index of substring\n",
    "print(string.find('is',11,14)) # no string in this range"
   ]
  },
  {
   "cell_type": "markdown",
   "metadata": {},
   "source": [
    "__replcae__"
   ]
  },
  {
   "cell_type": "code",
   "execution_count": 8,
   "metadata": {},
   "outputs": [],
   "source": [
    "string=string.replace(string,\"My name is M.Asad\")"
   ]
  },
  {
   "cell_type": "code",
   "execution_count": 9,
   "metadata": {},
   "outputs": [
    {
     "data": {
      "text/plain": [
       "'My name is M.Asad'"
      ]
     },
     "execution_count": 9,
     "metadata": {},
     "output_type": "execute_result"
    }
   ],
   "source": [
    "string"
   ]
  },
  {
   "cell_type": "code",
   "execution_count": 10,
   "metadata": {},
   "outputs": [
    {
     "data": {
      "text/plain": [
       "'MY NAME IS M.ASAD'"
      ]
     },
     "execution_count": 10,
     "metadata": {},
     "output_type": "execute_result"
    }
   ],
   "source": [
    "string.upper()"
   ]
  },
  {
   "cell_type": "code",
   "execution_count": 11,
   "metadata": {},
   "outputs": [
    {
     "data": {
      "text/plain": [
       "'my name is m.asad'"
      ]
     },
     "execution_count": 11,
     "metadata": {},
     "output_type": "execute_result"
    }
   ],
   "source": [
    "string.lower()"
   ]
  },
  {
   "cell_type": "markdown",
   "metadata": {},
   "source": [
    "# Type Conversions\n"
   ]
  },
  {
   "cell_type": "markdown",
   "metadata": {},
   "source": [
    "while taking an input the string is input by user always, we have to convert it into string we use __int__ to convert to integer and __float__ to convert to float, __str__ for string and __bool__ for boolean"
   ]
  },
  {
   "cell_type": "code",
   "execution_count": 12,
   "metadata": {},
   "outputs": [
    {
     "name": "stdout",
     "output_type": "stream",
     "text": [
      "enter you name: asad\n"
     ]
    }
   ],
   "source": [
    "name=input(\"enter you name: \")"
   ]
  },
  {
   "cell_type": "code",
   "execution_count": 13,
   "metadata": {},
   "outputs": [
    {
     "data": {
      "text/plain": [
       "'asad'"
      ]
     },
     "execution_count": 13,
     "metadata": {},
     "output_type": "execute_result"
    }
   ],
   "source": [
    "name"
   ]
  },
  {
   "cell_type": "code",
   "execution_count": 14,
   "metadata": {},
   "outputs": [
    {
     "data": {
      "text/plain": [
       "str"
      ]
     },
     "execution_count": 14,
     "metadata": {},
     "output_type": "execute_result"
    }
   ],
   "source": [
    "type(name)"
   ]
  },
  {
   "cell_type": "code",
   "execution_count": 15,
   "metadata": {},
   "outputs": [
    {
     "name": "stdout",
     "output_type": "stream",
     "text": [
      "Enter you Registration No: 59\n"
     ]
    }
   ],
   "source": [
    "RegNo= input(\"Enter you Registration No: \")"
   ]
  },
  {
   "cell_type": "code",
   "execution_count": 16,
   "metadata": {},
   "outputs": [
    {
     "data": {
      "text/plain": [
       "'59'"
      ]
     },
     "execution_count": 16,
     "metadata": {},
     "output_type": "execute_result"
    }
   ],
   "source": [
    "RegNo"
   ]
  },
  {
   "cell_type": "code",
   "execution_count": 17,
   "metadata": {},
   "outputs": [
    {
     "data": {
      "text/plain": [
       "str"
      ]
     },
     "execution_count": 17,
     "metadata": {},
     "output_type": "execute_result"
    }
   ],
   "source": [
    "type(RegNo)"
   ]
  },
  {
   "cell_type": "code",
   "execution_count": 18,
   "metadata": {},
   "outputs": [],
   "source": [
    "RegNo=int(RegNo)"
   ]
  },
  {
   "cell_type": "code",
   "execution_count": 19,
   "metadata": {},
   "outputs": [
    {
     "data": {
      "text/plain": [
       "int"
      ]
     },
     "execution_count": 19,
     "metadata": {},
     "output_type": "execute_result"
    }
   ],
   "source": [
    "type(RegNo)"
   ]
  },
  {
   "cell_type": "markdown",
   "metadata": {},
   "source": [
    "# Lambda Expression"
   ]
  },
  {
   "cell_type": "markdown",
   "metadata": {},
   "source": [
    "lambda function usually called anonymous function because it has no name, let's see some examples of lambda function"
   ]
  },
  {
   "cell_type": "code",
   "execution_count": 26,
   "metadata": {},
   "outputs": [
    {
     "name": "stdout",
     "output_type": "stream",
     "text": [
      "4\n"
     ]
    }
   ],
   "source": [
    "# DEFINING THE LAMBDA FUNCTION \n",
    "squares=lambda a: a**a\n",
    "\n",
    "print(squares(2)) # CALLING THE LAMBDA FUNCTION"
   ]
  },
  {
   "cell_type": "markdown",
   "metadata": {},
   "source": [
    "# Using function as a argument"
   ]
  },
  {
   "cell_type": "code",
   "execution_count": 29,
   "metadata": {},
   "outputs": [
    {
     "name": "stdout",
     "output_type": "stream",
     "text": [
      "30\n"
     ]
    }
   ],
   "source": [
    "def add(a,b):\n",
    "    return a+b\n",
    "\n",
    "def calculator(op,a,b):\n",
    "    return op(a,b) #here we have used argument as function\n",
    "\n",
    "print(calculator(add,10,20))"
   ]
  },
  {
   "cell_type": "code",
   "execution_count": 34,
   "metadata": {},
   "outputs": [
    {
     "data": {
      "text/plain": [
       "30"
      ]
     },
     "execution_count": 34,
     "metadata": {},
     "output_type": "execute_result"
    }
   ],
   "source": [
    "# without defining the function of add we can use lambda function\n",
    "\n",
    "res=calculator(lambda a,b: a+b,10,20)\n",
    "res"
   ]
  },
  {
   "cell_type": "markdown",
   "metadata": {},
   "source": [
    "__map()__ function "
   ]
  },
  {
   "cell_type": "markdown",
   "metadata": {},
   "source": [
    "map() function returns a map object(which is an iterator) of the results after applying the given function to each item of a given iterable (list, tuple etc.)"
   ]
  },
  {
   "cell_type": "markdown",
   "metadata": {},
   "source": [
    "__map(function,iter)__"
   ]
  },
  {
   "cell_type": "code",
   "execution_count": 41,
   "metadata": {},
   "outputs": [],
   "source": [
    "l=[1,2,4,5,6]\n",
    "result=map(lambda a: a**a,l) # map return map object you have to parse it"
   ]
  },
  {
   "cell_type": "code",
   "execution_count": 42,
   "metadata": {},
   "outputs": [
    {
     "data": {
      "text/plain": [
       "[1, 4, 256, 3125, 46656]"
      ]
     },
     "execution_count": 42,
     "metadata": {},
     "output_type": "execute_result"
    }
   ],
   "source": [
    "list(result)"
   ]
  },
  {
   "cell_type": "markdown",
   "metadata": {},
   "source": [
    "__filter()__ function "
   ]
  },
  {
   "cell_type": "markdown",
   "metadata": {},
   "source": [
    "filter function is used to fiter the elements based on some condition let see an example"
   ]
  },
  {
   "cell_type": "code",
   "execution_count": 46,
   "metadata": {},
   "outputs": [],
   "source": [
    "list_=[2,10,30,100,-1,-89]\n",
    "lis=list(filter(lambda a:a>0,list_)) # first argument as function and second iter"
   ]
  },
  {
   "cell_type": "code",
   "execution_count": 47,
   "metadata": {},
   "outputs": [
    {
     "data": {
      "text/plain": [
       "[2, 10, 30, 100]"
      ]
     },
     "execution_count": 47,
     "metadata": {},
     "output_type": "execute_result"
    }
   ],
   "source": [
    "lis"
   ]
  },
  {
   "cell_type": "markdown",
   "metadata": {},
   "source": [
    "# Recursion "
   ]
  },
  {
   "cell_type": "markdown",
   "metadata": {},
   "source": [
    "process in which function calls itself during function execution and stop at base case\n",
    "let see an example of recursive function "
   ]
  },
  {
   "cell_type": "code",
   "execution_count": 52,
   "metadata": {},
   "outputs": [],
   "source": [
    "def count(n):\n",
    "    print(n)\n",
    "    if n<=0: # base case when fucntion stops its execution\n",
    "        return 0\n",
    "    else:\n",
    "        count(n-1) # function calls itself "
   ]
  },
  {
   "cell_type": "code",
   "execution_count": 53,
   "metadata": {},
   "outputs": [
    {
     "name": "stdout",
     "output_type": "stream",
     "text": [
      "5\n",
      "4\n",
      "3\n",
      "2\n",
      "1\n",
      "0\n"
     ]
    }
   ],
   "source": [
    "count(5)"
   ]
  },
  {
   "cell_type": "markdown",
   "metadata": {},
   "source": [
    "implementing Febonachi series using recursive function"
   ]
  },
  {
   "cell_type": "code",
   "execution_count": 56,
   "metadata": {},
   "outputs": [],
   "source": [
    "def fib(n):\n",
    "    if n==0:\n",
    "        return 0\n",
    "    elif n==1:\n",
    "        return 1\n",
    "    else:\n",
    "        return fib(n-1)+fib(n-2) # here recursive call"
   ]
  },
  {
   "cell_type": "code",
   "execution_count": 57,
   "metadata": {},
   "outputs": [
    {
     "data": {
      "text/plain": [
       "55"
      ]
     },
     "execution_count": 57,
     "metadata": {},
     "output_type": "execute_result"
    }
   ],
   "source": [
    "# to find the 10th element of Febonachin sequence \n",
    "fib(10)"
   ]
  },
  {
   "cell_type": "markdown",
   "metadata": {},
   "source": [
    "# exercise repetition and concatenation\n",
    "In this exercise, you must implement the rep_cat function. You are given two integers, x and y, as arguments. You must convert them into strings. The string value of x must be repeated 10 times and the string value of y must be repeated 5 times.\n",
    "\n",
    "At the end, y will be concatenated to x and the resulting string must returned."
   ]
  },
  {
   "cell_type": "code",
   "execution_count": 63,
   "metadata": {},
   "outputs": [
    {
     "data": {
      "text/plain": [
       "'333333333355555'"
      ]
     },
     "execution_count": 63,
     "metadata": {},
     "output_type": "execute_result"
    }
   ],
   "source": [
    "def rep_cat(x,y):\n",
    "    x=str(x)*10\n",
    "    y=str(y)*5\n",
    "    return x+y\n",
    "\n",
    "rep_cat(3,5)"
   ]
  },
  {
   "cell_type": "markdown",
   "metadata": {},
   "source": [
    "# Factorial\n",
    "In this challenge, you must implement the factorial() function. It takes an integer as a parameter and calculates its factorial. Python does have a built-in factorial function but you’ll be creating your own for practice."
   ]
  },
  {
   "cell_type": "code",
   "execution_count": 79,
   "metadata": {},
   "outputs": [
    {
     "name": "stdout",
     "output_type": "stream",
     "text": [
      "720\n"
     ]
    }
   ],
   "source": [
    "# factorial = n*(n-1)*(n-2)*........*1\n",
    "\n",
    "def factorial(n):\n",
    "    if n == 0 or n == 1:\n",
    "        return 1\n",
    "    if n < 0:\n",
    "        return -1\n",
    "    \n",
    "    return n * factorial(n - 1)\n",
    "\n",
    "\n",
    "print(factorial(6))"
   ]
  },
  {
   "cell_type": "markdown",
   "metadata": {},
   "source": [
    "# Loop"
   ]
  },
  {
   "cell_type": "markdown",
   "metadata": {},
   "source": [
    " loops are control structures to perform set of operation specific number of times"
   ]
  },
  {
   "cell_type": "markdown",
   "metadata": {},
   "source": [
    "there are differnt types of loops in python\n",
    "\n",
    "for loop <br>\n",
    "while loop<br>"
   ]
  },
  {
   "cell_type": "markdown",
   "metadata": {},
   "source": [
    "for loop can be iterate over sequence or we can use range() fucntion"
   ]
  },
  {
   "cell_type": "code",
   "execution_count": 81,
   "metadata": {},
   "outputs": [
    {
     "name": "stdout",
     "output_type": "stream",
     "text": [
      "0\n",
      "1\n",
      "2\n",
      "3\n",
      "4\n",
      "5\n",
      "6\n",
      "7\n",
      "8\n",
      "9\n"
     ]
    }
   ],
   "source": [
    "for i in range(0,10):\n",
    "    print(i)"
   ]
  },
  {
   "cell_type": "code",
   "execution_count": 82,
   "metadata": {},
   "outputs": [
    {
     "name": "stdout",
     "output_type": "stream",
     "text": [
      "2\n",
      "4\n",
      "6\n",
      "8\n",
      "10\n",
      "12\n",
      "14\n",
      "16\n",
      "18\n"
     ]
    }
   ],
   "source": [
    "for i in range(2,20,2):\n",
    "    print(i)"
   ]
  },
  {
   "cell_type": "code",
   "execution_count": 88,
   "metadata": {},
   "outputs": [
    {
     "name": "stdout",
     "output_type": "stream",
     "text": [
      "1\n",
      "2\n",
      "34\n",
      "5\n",
      "6\n",
      "6\n",
      "7\n",
      "8\n",
      "8\n"
     ]
    }
   ],
   "source": [
    "li=[1,2,34,5,6,6,7,8,8]\n",
    "\n",
    "for i in li:\n",
    "    print(i)"
   ]
  },
  {
   "cell_type": "code",
   "execution_count": 89,
   "metadata": {},
   "outputs": [
    {
     "name": "stdout",
     "output_type": "stream",
     "text": [
      "1\n",
      "2\n",
      "34\n",
      "5\n",
      "6\n",
      "6\n",
      "7\n",
      "8\n",
      "8\n"
     ]
    }
   ],
   "source": [
    "for i in range(0,len(li)):\n",
    "    print(li[i])"
   ]
  },
  {
   "cell_type": "markdown",
   "metadata": {},
   "source": [
    "# Nested For Loop"
   ]
  },
  {
   "cell_type": "code",
   "execution_count": 92,
   "metadata": {},
   "outputs": [
    {
     "name": "stdout",
     "output_type": "stream",
     "text": [
      "red apple\n",
      "red banana\n",
      "red cherry\n",
      "big apple\n",
      "big banana\n",
      "big cherry\n",
      "tasty apple\n",
      "tasty banana\n",
      "tasty cherry\n"
     ]
    }
   ],
   "source": [
    "adj = [\"red\", \"big\", \"tasty\"]\n",
    "fruits = [\"apple\", \"banana\", \"cherry\"]\n",
    "\n",
    "for x in adj:\n",
    "    for y in fruits:\n",
    "        print(x, y)"
   ]
  },
  {
   "cell_type": "markdown",
   "metadata": {},
   "source": [
    "## Break Keyword\n",
    "to terminate the loop on specific condition we can use break statement"
   ]
  },
  {
   "cell_type": "code",
   "execution_count": 97,
   "metadata": {},
   "outputs": [
    {
     "name": "stdout",
     "output_type": "stream",
     "text": [
      "1\n",
      "2\n",
      "34\n",
      "5\n"
     ]
    }
   ],
   "source": [
    "for i in li:\n",
    "    if i%3==0:\n",
    "        break\n",
    "    else:\n",
    "        print(i)"
   ]
  },
  {
   "cell_type": "markdown",
   "metadata": {},
   "source": [
    "# Continue"
   ]
  },
  {
   "cell_type": "markdown",
   "metadata": {},
   "source": [
    "if we want to go to the loop other than executing all the statements then we can use Continue statement"
   ]
  },
  {
   "cell_type": "code",
   "execution_count": 99,
   "metadata": {},
   "outputs": [
    {
     "name": "stdout",
     "output_type": "stream",
     "text": [
      "5\n",
      "9\n"
     ]
    }
   ],
   "source": [
    "li=[2,4,5,6,8,9]\n",
    "\n",
    "for i in li:\n",
    "    if i%2==0:\n",
    "        continue\n",
    "    else:\n",
    "        print(i)"
   ]
  },
  {
   "cell_type": "markdown",
   "metadata": {},
   "source": [
    "# while loop\n",
    "when we know the termination condition then we use while loop other wise for loop"
   ]
  },
  {
   "cell_type": "code",
   "execution_count": 100,
   "metadata": {},
   "outputs": [
    {
     "name": "stdout",
     "output_type": "stream",
     "text": [
      "10\n",
      "9\n",
      "8\n",
      "7\n",
      "6\n",
      "5\n",
      "4\n",
      "3\n",
      "2\n",
      "1\n",
      "0\n"
     ]
    }
   ],
   "source": [
    "n=10\n",
    "\n",
    "while n>=0:\n",
    "    print(n)\n",
    "    n-=1"
   ]
  },
  {
   "cell_type": "markdown",
   "metadata": {},
   "source": [
    "# Problem Statement \n",
    "Given a string containing only square brackets, [], you must check whether the brackets are balanced or not. The brackets are said to be balanced if, for every opening bracket, there is a closing bracket.\n",
    "\n",
    "You will write your code in the check_balance() function, which returns True if the brackets are balanced and False if they are not.\n",
    "\n",
    "For an empty string, the function will return True.\n",
    "\n",
    "For the sake of simplicity, you can assume that the string will not contain any other characters."
   ]
  },
  {
   "cell_type": "code",
   "execution_count": 119,
   "metadata": {},
   "outputs": [],
   "source": [
    "def check_balance(brackets):\n",
    "    check = 0\n",
    "    for bracket in brackets:\n",
    "        if bracket == '[':\n",
    "            check += 1\n",
    "\n",
    "        elif bracket == ']':\n",
    "            check -= 1\n",
    "\n",
    "        if check < 0:\n",
    "            break\n",
    "\n",
    "    return check == 0"
   ]
  },
  {
   "cell_type": "code",
   "execution_count": 120,
   "metadata": {
    "scrolled": true
   },
   "outputs": [
    {
     "data": {
      "text/plain": [
       "True"
      ]
     },
     "execution_count": 120,
     "metadata": {},
     "output_type": "execute_result"
    }
   ],
   "source": [
    "\n",
    "x='[][]'\n",
    "check_balance(x)"
   ]
  },
  {
   "cell_type": "markdown",
   "metadata": {},
   "source": [
    "# problem statement\n",
    "You must implement the check_sum() function which takes in a list and returns True if the sum of two numbers in the list is zero. If no such pair exists, return False."
   ]
  },
  {
   "cell_type": "code",
   "execution_count": 16,
   "metadata": {},
   "outputs": [],
   "source": [
    "def check_sum(x):\n",
    "    for i in x:\n",
    "        for j in x:\n",
    "            if j+i==0:\n",
    "                print(i,j)\n",
    "                break\n",
    "            else:\n",
    "                continue"
   ]
  },
  {
   "cell_type": "code",
   "execution_count": 18,
   "metadata": {},
   "outputs": [
    {
     "name": "stdout",
     "output_type": "stream",
     "text": [
      "4 -4\n",
      "5 -5\n",
      "-5 5\n",
      "-4 4\n"
     ]
    }
   ],
   "source": [
    "l=[1,2,3,4,5,-5,-4]\n",
    "check_sum(l)"
   ]
  },
  {
   "cell_type": "code",
   "execution_count": 31,
   "metadata": {},
   "outputs": [],
   "source": [
    "# FEBONACHI SERIES 0 1 1 2 3 5 8 13\n",
    "\n",
    "def fib(n):\n",
    "    if n==0 or n==1:\n",
    "        return 1\n",
    "    if n<0:\n",
    "        return -1\n",
    "    else:\n",
    "        x=0\n",
    "        y=1\n",
    "        for i in range(1,n-1):\n",
    "            temp=x+y\n",
    "            x=y\n",
    "            y=temp\n",
    "        return temp\n",
    "            "
   ]
  },
  {
   "cell_type": "code",
   "execution_count": 33,
   "metadata": {},
   "outputs": [
    {
     "data": {
      "text/plain": [
       "3"
      ]
     },
     "execution_count": 33,
     "metadata": {},
     "output_type": "execute_result"
    }
   ],
   "source": [
    "fib(5)"
   ]
  },
  {
   "cell_type": "markdown",
   "metadata": {},
   "source": [
    "# Data Structures"
   ]
  },
  {
   "cell_type": "markdown",
   "metadata": {},
   "source": [
    "data structure is a way to store a data into specific pattern. "
   ]
  },
  {
   "cell_type": "markdown",
   "metadata": {},
   "source": [
    "Data structures in python \n",
    "* list\n",
    "* tuple\n",
    "* dictionary \n",
    "* set"
   ]
  },
  {
   "cell_type": "markdown",
   "metadata": {},
   "source": [
    "# List"
   ]
  },
  {
   "cell_type": "markdown",
   "metadata": {},
   "source": [
    "The list is perhaps the most commonly used data structure in Python. It allows us to store elements of different data types in one container.\n",
    "\n",
    "The contents of a list are enclosed by square brackets, []"
   ]
  },
  {
   "cell_type": "markdown",
   "metadata": {},
   "source": [
    "Properties of List\n",
    "\n",
    "The main properties of list are given below:\n",
    "\n",
    "* Lists are ordered\n",
    "* List allow duplication of elements\n",
    "* Lists are mutable, it allow to change elemet within it without creating new list.\n",
    "\n",
    "When We Use List?\n",
    "\n",
    "For the follwing purposes we can use list\n",
    "\n",
    "* When we need ordered sequence of items\n",
    "* When we need to add, remove,delete or update the items within list\n",
    "* if we want to use list as a stack or queue \n",
    "\n",
    "\n",
    "\n",
    "## Creating List"
   ]
  },
  {
   "cell_type": "markdown",
   "metadata": {},
   "source": [
    "we can create list using range function or directly "
   ]
  },
  {
   "cell_type": "code",
   "execution_count": 13,
   "metadata": {},
   "outputs": [
    {
     "data": {
      "text/plain": [
       "[1, 3, 4, 5, 6]"
      ]
     },
     "execution_count": 13,
     "metadata": {},
     "output_type": "execute_result"
    }
   ],
   "source": [
    "list1=[1,3,4,5,6]\n",
    "list1"
   ]
  },
  {
   "cell_type": "code",
   "execution_count": 14,
   "metadata": {},
   "outputs": [],
   "source": [
    "list2= list(range(0,10))"
   ]
  },
  {
   "cell_type": "code",
   "execution_count": 15,
   "metadata": {},
   "outputs": [
    {
     "data": {
      "text/plain": [
       "[0, 1, 2, 3, 4, 5, 6, 7, 8, 9]"
      ]
     },
     "execution_count": 15,
     "metadata": {},
     "output_type": "execute_result"
    }
   ],
   "source": [
    "list2"
   ]
  },
  {
   "cell_type": "markdown",
   "metadata": {},
   "source": [
    "### accessing value from list "
   ]
  },
  {
   "cell_type": "code",
   "execution_count": 16,
   "metadata": {},
   "outputs": [
    {
     "data": {
      "text/plain": [
       "1"
      ]
     },
     "execution_count": 16,
     "metadata": {},
     "output_type": "execute_result"
    }
   ],
   "source": [
    "list1[0]"
   ]
  },
  {
   "cell_type": "code",
   "execution_count": 17,
   "metadata": {},
   "outputs": [
    {
     "data": {
      "text/plain": [
       "5"
      ]
     },
     "execution_count": 17,
     "metadata": {},
     "output_type": "execute_result"
    }
   ],
   "source": [
    "list2[5]"
   ]
  },
  {
   "cell_type": "markdown",
   "metadata": {},
   "source": [
    "### updating list"
   ]
  },
  {
   "cell_type": "code",
   "execution_count": 18,
   "metadata": {},
   "outputs": [],
   "source": [
    "# append() method is used to update list at end \n",
    "\n",
    "list1.append(6)"
   ]
  },
  {
   "cell_type": "code",
   "execution_count": 19,
   "metadata": {},
   "outputs": [
    {
     "data": {
      "text/plain": [
       "[1, 3, 4, 5, 6, 6]"
      ]
     },
     "execution_count": 19,
     "metadata": {},
     "output_type": "execute_result"
    }
   ],
   "source": [
    "list1"
   ]
  },
  {
   "cell_type": "markdown",
   "metadata": {},
   "source": [
    "### deleting the list"
   ]
  },
  {
   "cell_type": "code",
   "execution_count": 20,
   "metadata": {},
   "outputs": [
    {
     "data": {
      "text/plain": [
       "[1, 3, 4, 5, 6]"
      ]
     },
     "execution_count": 20,
     "metadata": {},
     "output_type": "execute_result"
    }
   ],
   "source": [
    "#we can use pop() method to delete specific index element or use clear() method to delete list\n",
    "\n",
    "list1.pop(5)\n",
    "list1 # after poping last element "
   ]
  },
  {
   "cell_type": "code",
   "execution_count": 21,
   "metadata": {},
   "outputs": [
    {
     "data": {
      "text/plain": [
       "[]"
      ]
     },
     "execution_count": 21,
     "metadata": {},
     "output_type": "execute_result"
    }
   ],
   "source": [
    "list1.clear()\n",
    "list1"
   ]
  },
  {
   "cell_type": "markdown",
   "metadata": {},
   "source": [
    "## concatenating the list using \"+\"\n"
   ]
  },
  {
   "cell_type": "code",
   "execution_count": 22,
   "metadata": {},
   "outputs": [
    {
     "data": {
      "text/plain": [
       "[1, 2, 3, 4, 6, 2, 3, 4, 6, 77, 67]"
      ]
     },
     "execution_count": 22,
     "metadata": {},
     "output_type": "execute_result"
    }
   ],
   "source": [
    "l1=[1,2,3,4,6]\n",
    "l2=[2,3,4,6,77,67]\n",
    "\n",
    "l1+l2 "
   ]
  },
  {
   "cell_type": "markdown",
   "metadata": {},
   "source": [
    "## repeting list using \"*\" operator"
   ]
  },
  {
   "cell_type": "code",
   "execution_count": 23,
   "metadata": {},
   "outputs": [
    {
     "data": {
      "text/plain": [
       "[1, 2, 3, 4, 6, 1, 2, 3, 4, 6, 1, 2, 3, 4, 6]"
      ]
     },
     "execution_count": 23,
     "metadata": {},
     "output_type": "execute_result"
    }
   ],
   "source": [
    "l1*3"
   ]
  },
  {
   "cell_type": "markdown",
   "metadata": {},
   "source": [
    "## Slicing the list "
   ]
  },
  {
   "cell_type": "code",
   "execution_count": 24,
   "metadata": {},
   "outputs": [
    {
     "data": {
      "text/plain": [
       "[2, 3]"
      ]
     },
     "execution_count": 24,
     "metadata": {},
     "output_type": "execute_result"
    }
   ],
   "source": [
    "l2[0:2]"
   ]
  },
  {
   "cell_type": "code",
   "execution_count": 25,
   "metadata": {},
   "outputs": [
    {
     "data": {
      "text/plain": [
       "[2, 4]"
      ]
     },
     "execution_count": 25,
     "metadata": {},
     "output_type": "execute_result"
    }
   ],
   "source": [
    "l2[0:4:2] # 0 is starting index, 4 is last index (excluded) , 2 is interval between elements"
   ]
  },
  {
   "cell_type": "code",
   "execution_count": 26,
   "metadata": {},
   "outputs": [
    {
     "data": {
      "text/plain": [
       "[2, 3, 4, 6, 77, 67]"
      ]
     },
     "execution_count": 26,
     "metadata": {},
     "output_type": "execute_result"
    }
   ],
   "source": [
    "l2"
   ]
  },
  {
   "cell_type": "code",
   "execution_count": 29,
   "metadata": {},
   "outputs": [
    {
     "data": {
      "text/plain": [
       "[67, 77, 6, 4, 3, 2]"
      ]
     },
     "execution_count": 29,
     "metadata": {},
     "output_type": "execute_result"
    }
   ],
   "source": [
    "l2[::-1] # reverse the string"
   ]
  },
  {
   "cell_type": "code",
   "execution_count": 30,
   "metadata": {},
   "outputs": [
    {
     "data": {
      "text/plain": [
       "[77, 6]"
      ]
     },
     "execution_count": 30,
     "metadata": {},
     "output_type": "execute_result"
    }
   ],
   "source": [
    "l2[-2:-4:-1] # fetching element from last same as above l2[0:4:2] "
   ]
  },
  {
   "cell_type": "markdown",
   "metadata": {},
   "source": [
    "# list comprehention "
   ]
  },
  {
   "cell_type": "markdown",
   "metadata": {},
   "source": [
    "List comprehension is a technique that uses a for loop and a condition to create a new list from an existing one.\n",
    "\n",
    "[expression           for loop           if condition]"
   ]
  },
  {
   "cell_type": "code",
   "execution_count": 34,
   "metadata": {},
   "outputs": [],
   "source": [
    "x=[1,2,3,4,5,6,7]\n",
    "\n",
    "new_list=[n**2 for n in x] # creating list of squares"
   ]
  },
  {
   "cell_type": "code",
   "execution_count": 35,
   "metadata": {},
   "outputs": [
    {
     "data": {
      "text/plain": [
       "[1, 4, 9, 16, 25, 36, 49]"
      ]
     },
     "execution_count": 35,
     "metadata": {},
     "output_type": "execute_result"
    }
   ],
   "source": [
    "new_list"
   ]
  },
  {
   "cell_type": "code",
   "execution_count": 37,
   "metadata": {},
   "outputs": [
    {
     "data": {
      "text/plain": [
       "[9, 16, 25, 36, 49]"
      ]
     },
     "execution_count": 37,
     "metadata": {},
     "output_type": "execute_result"
    }
   ],
   "source": [
    "new_list=[n**2 for n in x if n>2] # sqauare values for greater then 2\n",
    "new_list"
   ]
  },
  {
   "cell_type": "code",
   "execution_count": 38,
   "metadata": {},
   "outputs": [
    {
     "name": "stdout",
     "output_type": "stream",
     "text": [
      "[(50, 60), (110, 10), (110, 60), (110, 20), (110, 50), (75, 60), (75, 50)]\n"
     ]
    }
   ],
   "source": [
    "list1 = [30, 50, 110, 40, 15, 75]\n",
    "list2 = [10, 60, 20, 50]\n",
    "\n",
    "sum_list = [(n1, n2) for n1 in list1 for n2 in list2 if n1 + n2 > 100]\n",
    "\n",
    "print(sum_list)\n"
   ]
  },
  {
   "cell_type": "markdown",
   "metadata": {},
   "source": [
    "# Tuples"
   ]
  },
  {
   "cell_type": "markdown",
   "metadata": {},
   "source": [
    "### What is Tuple?\n",
    "A tuple is a set of objects that are immutable to Python. Just like lists, tuples are sequences. The distinctions between tuples and lists are, unlike list and tuples, the tuples cannot be modified. The development of a tuple is as easy as putting different values separated by comma. You can also place certain comma-separated values in parentheses.\n",
    "\n",
    "Properties of Tuple\n",
    "The main properties of the tuple are given below:\n",
    "\n",
    "* It is same as list. The differences between tuples and lists are, the tuples cannot be changed.\n",
    "* Each item is comma (,) separated.\n",
    "* Empty Tuple is shown as ().\n",
    "* To write a tuple containing a single value you have to include a comma (,) even though there is only one value. For Example: tup = (40,).\n",
    "* It can also have multiple data type values.\n",
    "* Like string indices, tuple indices start at 0, and they can be sliced, concatenated, and so on.\n",
    "\n",
    "### When we need a Tuple?\n",
    "For the following purposes we need the python tuple.\n",
    "\n",
    "* Use tuples when your data cannot change.\n",
    "* Tuple is typically used for heterogeneous (different) datatypes.\n",
    "\n",
    "### What advantages do tuples have over lists?\n",
    "I’m going to talk about how python memory works …\n",
    "\n",
    "This implies that tuples are set, since tuples are immutable. We can’t memorize anything to do about them.\n",
    "\n",
    "This method is called append, however, to lists. To make most of you appends quick, python will actually create a larger memory array just in case of append.\n",
    "\n",
    "This way, it doesn’t have to recreate a list every time you do annex it. This also means passing around 3 elements if you just need to. Making a list of 3 would cost more than 3 memory-value components. (How would you know might not want to add a 4th​​ 5th​​ 6th​​ element? Play it safely and suppose you may want more!)\n",
    "\n",
    "On the other hand, it tells python through the use of tuples that you want to immutable structure. Give me 3 things in space, fill up those slots and move on."
   ]
  },
  {
   "cell_type": "code",
   "execution_count": 39,
   "metadata": {},
   "outputs": [],
   "source": [
    "tup=('asad','ali','alvi')"
   ]
  },
  {
   "cell_type": "code",
   "execution_count": 40,
   "metadata": {},
   "outputs": [
    {
     "data": {
      "text/plain": [
       "1"
      ]
     },
     "execution_count": 40,
     "metadata": {},
     "output_type": "execute_result"
    }
   ],
   "source": [
    "tup.count('asad')"
   ]
  },
  {
   "cell_type": "code",
   "execution_count": 41,
   "metadata": {},
   "outputs": [
    {
     "data": {
      "text/plain": [
       "'ali'"
      ]
     },
     "execution_count": 41,
     "metadata": {},
     "output_type": "execute_result"
    }
   ],
   "source": [
    "tup[1]"
   ]
  },
  {
   "cell_type": "code",
   "execution_count": 43,
   "metadata": {},
   "outputs": [
    {
     "ename": "TypeError",
     "evalue": "'tuple' object does not support item assignment",
     "output_type": "error",
     "traceback": [
      "\u001b[1;31m---------------------------------------------------------------------------\u001b[0m",
      "\u001b[1;31mTypeError\u001b[0m                                 Traceback (most recent call last)",
      "\u001b[1;32m<ipython-input-43-1181ca346779>\u001b[0m in \u001b[0;36m<module>\u001b[1;34m\u001b[0m\n\u001b[1;32m----> 1\u001b[1;33m \u001b[0mtup\u001b[0m\u001b[1;33m[\u001b[0m\u001b[1;36m2\u001b[0m\u001b[1;33m]\u001b[0m\u001b[1;33m=\u001b[0m\u001b[1;34m'asad'\u001b[0m\u001b[1;33m\u001b[0m\u001b[1;33m\u001b[0m\u001b[0m\n\u001b[0m",
      "\u001b[1;31mTypeError\u001b[0m: 'tuple' object does not support item assignment"
     ]
    }
   ],
   "source": [
    "tup[2]='asad'"
   ]
  },
  {
   "cell_type": "code",
   "execution_count": 44,
   "metadata": {},
   "outputs": [
    {
     "data": {
      "text/plain": [
       "('asad', 'ali')"
      ]
     },
     "execution_count": 44,
     "metadata": {},
     "output_type": "execute_result"
    }
   ],
   "source": [
    "tup[0:2]"
   ]
  },
  {
   "cell_type": "markdown",
   "metadata": {},
   "source": [
    "**we cannot update the tuple but we can create new tuple which can have different tuples or elements**"
   ]
  },
  {
   "cell_type": "code",
   "execution_count": 45,
   "metadata": {},
   "outputs": [],
   "source": [
    "tup1=('asad',1,2,4)\n",
    "tup2=(5,6,7,8,9)\n",
    "\n",
    "tup3=tup1+tup2"
   ]
  },
  {
   "cell_type": "code",
   "execution_count": 46,
   "metadata": {},
   "outputs": [
    {
     "data": {
      "text/plain": [
       "('asad', 1, 2, 4, 5, 6, 7, 8, 9)"
      ]
     },
     "execution_count": 46,
     "metadata": {},
     "output_type": "execute_result"
    }
   ],
   "source": [
    "tup3"
   ]
  },
  {
   "cell_type": "markdown",
   "metadata": {},
   "source": [
    "### deleting tuple"
   ]
  },
  {
   "cell_type": "code",
   "execution_count": 47,
   "metadata": {},
   "outputs": [],
   "source": [
    "del(tup2)"
   ]
  },
  {
   "cell_type": "code",
   "execution_count": 48,
   "metadata": {},
   "outputs": [
    {
     "ename": "NameError",
     "evalue": "name 'tup2' is not defined",
     "output_type": "error",
     "traceback": [
      "\u001b[1;31m---------------------------------------------------------------------------\u001b[0m",
      "\u001b[1;31mNameError\u001b[0m                                 Traceback (most recent call last)",
      "\u001b[1;32m<ipython-input-48-9d6435f7c59b>\u001b[0m in \u001b[0;36m<module>\u001b[1;34m\u001b[0m\n\u001b[1;32m----> 1\u001b[1;33m \u001b[0mtup2\u001b[0m\u001b[1;33m\u001b[0m\u001b[1;33m\u001b[0m\u001b[0m\n\u001b[0m",
      "\u001b[1;31mNameError\u001b[0m: name 'tup2' is not defined"
     ]
    }
   ],
   "source": [
    "tup2"
   ]
  },
  {
   "cell_type": "markdown",
   "metadata": {},
   "source": [
    "# Dictionaries\n",
    "\n",
    "## What is Dictionary?\n",
    "Python’s dictionary is an unordered set of data values used to store data values like a map that, unlike other data types that only carry a single value as an element, dictionary holds​​ key:value pair. In the dictionary the key value is given to make it more optimized.\n",
    "\n",
    "\n",
    "\n",
    "## Properties of Dictionary\n",
    "The main properties of the dictionary are given below:\n",
    "\n",
    "* It is same as array of objects having key and values in PHP.\n",
    "* Each key is separated by colon (:) from its value.\n",
    "* Each item is separated with comma (,).\n",
    "* Empty dictionary can be written as {}.\n",
    "* Keys are unique in dictionary, but values may not.\n",
    "* The values of the dictionary can be of any data type.\n",
    "* The keys must be of an immutable data type such as strings, numbers, or tuples.\n",
    "\n",
    "## When we need a Dictionary?\n",
    "We use dictionary when we have to manage a fata against the keys or indexing. As if we have the millions of students in the institute than we must have to use the dictionary as if we use the list than we have to make the logic to make the indexing or keys. So, we use the dictionary for this rather than list.\n",
    "\n",
    "## Why we need a Dictionary?\n",
    "Consider having an element E and a list with a Billion entries, L. If you want to check if E is in L, you have to, in worst case, check all the Billion entries in L for equality to E. If you have a dictionary, you have to check only once, regardless of the size of the dictionary."
   ]
  },
  {
   "cell_type": "code",
   "execution_count": 49,
   "metadata": {},
   "outputs": [],
   "source": [
    "my_dict={1:'asad',2:'ali'}"
   ]
  },
  {
   "cell_type": "code",
   "execution_count": 50,
   "metadata": {},
   "outputs": [
    {
     "data": {
      "text/plain": [
       "{1: 'asad', 2: 'ali'}"
      ]
     },
     "execution_count": 50,
     "metadata": {},
     "output_type": "execute_result"
    }
   ],
   "source": [
    "my_dict"
   ]
  },
  {
   "cell_type": "markdown",
   "metadata": {},
   "source": [
    "### accessing dictionary value"
   ]
  },
  {
   "cell_type": "code",
   "execution_count": 51,
   "metadata": {},
   "outputs": [
    {
     "data": {
      "text/plain": [
       "'asad'"
      ]
     },
     "execution_count": 51,
     "metadata": {},
     "output_type": "execute_result"
    }
   ],
   "source": [
    "my_dict[1]"
   ]
  },
  {
   "cell_type": "code",
   "execution_count": 52,
   "metadata": {},
   "outputs": [],
   "source": [
    "my_dict[3]='asghar'"
   ]
  },
  {
   "cell_type": "code",
   "execution_count": 53,
   "metadata": {},
   "outputs": [
    {
     "data": {
      "text/plain": [
       "{1: 'asad', 2: 'ali', 3: 'asghar'}"
      ]
     },
     "execution_count": 53,
     "metadata": {},
     "output_type": "execute_result"
    }
   ],
   "source": [
    "my_dict"
   ]
  },
  {
   "cell_type": "markdown",
   "metadata": {},
   "source": [
    "## Deleting the dictionary "
   ]
  },
  {
   "cell_type": "code",
   "execution_count": 54,
   "metadata": {},
   "outputs": [],
   "source": [
    "del(my_dict)"
   ]
  },
  {
   "cell_type": "code",
   "execution_count": 55,
   "metadata": {},
   "outputs": [
    {
     "ename": "NameError",
     "evalue": "name 'my_dict' is not defined",
     "output_type": "error",
     "traceback": [
      "\u001b[1;31m---------------------------------------------------------------------------\u001b[0m",
      "\u001b[1;31mNameError\u001b[0m                                 Traceback (most recent call last)",
      "\u001b[1;32m<ipython-input-55-23f353dd2d1f>\u001b[0m in \u001b[0;36m<module>\u001b[1;34m\u001b[0m\n\u001b[1;32m----> 1\u001b[1;33m \u001b[0mmy_dict\u001b[0m\u001b[1;33m\u001b[0m\u001b[1;33m\u001b[0m\u001b[0m\n\u001b[0m",
      "\u001b[1;31mNameError\u001b[0m: name 'my_dict' is not defined"
     ]
    }
   ],
   "source": [
    "my_dict"
   ]
  },
  {
   "cell_type": "code",
   "execution_count": 56,
   "metadata": {},
   "outputs": [],
   "source": [
    "my_dict={1:'asad',2:'ali',3:'asghar'}"
   ]
  },
  {
   "cell_type": "code",
   "execution_count": 58,
   "metadata": {},
   "outputs": [
    {
     "data": {
      "text/plain": [
       "dict_keys([1, 2, 3])"
      ]
     },
     "execution_count": 58,
     "metadata": {},
     "output_type": "execute_result"
    }
   ],
   "source": [
    "my_dict.keys()"
   ]
  },
  {
   "cell_type": "code",
   "execution_count": 61,
   "metadata": {},
   "outputs": [
    {
     "data": {
      "text/plain": [
       "dict_items([(1, 'asad'), (2, 'ali'), (3, 'asghar')])"
      ]
     },
     "execution_count": 61,
     "metadata": {},
     "output_type": "execute_result"
    }
   ],
   "source": [
    "my_dict.items()"
   ]
  },
  {
   "cell_type": "markdown",
   "metadata": {},
   "source": [
    "# Sets"
   ]
  },
  {
   "cell_type": "markdown",
   "metadata": {},
   "source": [
    "## What is Set?\n",
    "A set is an unordered, iterable, mutable type of data collection that does not have duplicate components. The set-class of python is the mathematical notion of a set. The major advantage of using a set, as opposed to a list, is that it has a highly optimized method of checking whether the set contains a particular element. This is focused on the structure of data, known as a hash table.\n",
    "\n",
    "## Properties of Set\n",
    "The main properties of the set are given below:\n",
    "\n",
    "* Sets are unordered.\n",
    "* Set elements are unique. Duplicate elements are not allowed.\n",
    "* A set itself may be modified, but the elements contained in the set must be of an immutable type.\n",
    "\n",
    "## When we need a Set?\n",
    "For the following purposes we need the python set.\n",
    "\n",
    "Use a set if you need uniqueness for the elements.\n",
    "Since set is unordered collection of data but also mutable, so it is very helpful working with huge datasets.\n",
    "It has a highly optimized method for checking whether a specific element is contained in the set.\n",
    "\n",
    "## Why we need a Set?\n",
    "We use the set since sets can not have multiple occurrences of the same element, it makes sets very useful for effectively removing duplicate values from a list or tuple and performing basic math operations such as union and intersections."
   ]
  },
  {
   "cell_type": "markdown",
   "metadata": {},
   "source": [
    "Set is listed in curly brackets ({}); values are declared inside these curly brackets. A comma (,) separates each value from other and normally it looks like this:"
   ]
  },
  {
   "cell_type": "code",
   "execution_count": 62,
   "metadata": {},
   "outputs": [],
   "source": [
    "this_set = {\"Apple\" ,\"Banana\",\"Cherry\"}"
   ]
  },
  {
   "cell_type": "markdown",
   "metadata": {},
   "source": [
    "### Accessing Value in Set\n",
    "Through referring to an index, you can not access objects in a set, because sets are unordered, and the items have no index.\n",
    "\n",
    "By using a for loop, you can loop through the set objects, or query whether there is a given value in a set, by using the in keyword."
   ]
  },
  {
   "cell_type": "code",
   "execution_count": 67,
   "metadata": {},
   "outputs": [
    {
     "name": "stdout",
     "output_type": "stream",
     "text": [
      "Cherry\n",
      "Apple\n",
      "Banana\n"
     ]
    }
   ],
   "source": [
    "for x in this_set:\n",
    "    print(x)"
   ]
  },
  {
   "cell_type": "code",
   "execution_count": 69,
   "metadata": {},
   "outputs": [
    {
     "name": "stdout",
     "output_type": "stream",
     "text": [
      "True\n"
     ]
    }
   ],
   "source": [
    "print('Banana' in this_set)"
   ]
  },
  {
   "cell_type": "code",
   "execution_count": 70,
   "metadata": {},
   "outputs": [],
   "source": [
    "this_set.add('orange')"
   ]
  },
  {
   "cell_type": "code",
   "execution_count": 72,
   "metadata": {},
   "outputs": [
    {
     "data": {
      "text/plain": [
       "{'Apple', 'Banana', 'Cherry', 'orange'}"
      ]
     },
     "execution_count": 72,
     "metadata": {},
     "output_type": "execute_result"
    }
   ],
   "source": [
    "this_set"
   ]
  },
  {
   "cell_type": "markdown",
   "metadata": {},
   "source": [
    "## Set Operations "
   ]
  },
  {
   "cell_type": "markdown",
   "metadata": {},
   "source": [
    "### Union\n",
    "\n",
    "Union operation means to unite the two different sets by using the union() method of set​​ but similar unite at once. See the given example"
   ]
  },
  {
   "cell_type": "code",
   "execution_count": 73,
   "metadata": {},
   "outputs": [
    {
     "data": {
      "text/plain": [
       "{'Apple', 'Artichoke', 'Asparagus', 'Aubergine', 'Banana', 'Cherry'}"
      ]
     },
     "execution_count": 73,
     "metadata": {},
     "output_type": "execute_result"
    }
   ],
   "source": [
    "this_set1 = {\"Apple\" ,\"Banana\" ,\"Cherry\"}\n",
    "\n",
    "this_set2 = {'Artichoke' ,'Aubergine','Asparagus','Apple'}\n",
    "\n",
    "this_set1.union(this_set2)"
   ]
  },
  {
   "cell_type": "markdown",
   "metadata": {},
   "source": [
    "### Intersection\n",
    "Intersection operation means to get the common values between the two sets. See the given example"
   ]
  },
  {
   "cell_type": "code",
   "execution_count": 75,
   "metadata": {},
   "outputs": [
    {
     "data": {
      "text/plain": [
       "{'Apple'}"
      ]
     },
     "execution_count": 75,
     "metadata": {},
     "output_type": "execute_result"
    }
   ],
   "source": [
    "this_set1 = {\"Apple\" ,\"Banana\" ,\"Cherry\"}\n",
    "\n",
    "this_set2 = {'Artichoke' ,'Aubergine','Asparagus','Apple'}\n",
    "\n",
    "this_set1.intersection(this_set2)"
   ]
  },
  {
   "cell_type": "markdown",
   "metadata": {},
   "source": [
    "### Difference\n",
    "Difference operation means to get the values of the first set that are not values of other set. See the given example."
   ]
  },
  {
   "cell_type": "code",
   "execution_count": 77,
   "metadata": {},
   "outputs": [
    {
     "data": {
      "text/plain": [
       "{'Banana', 'Cherry'}"
      ]
     },
     "execution_count": 77,
     "metadata": {},
     "output_type": "execute_result"
    }
   ],
   "source": [
    "this_set1 = {\"Apple\" ,\"Banana\" ,\"Cherry\"}\n",
    "\n",
    "this_set2 = {'Artichoke' ,'Aubergine','Asparagus','Apple'}\n",
    "\n",
    "this_set1.difference(this_set2)"
   ]
  },
  {
   "cell_type": "markdown",
   "metadata": {},
   "source": [
    "## Symmetric Difference\n",
    "Symmetric difference means to get all the values that are values of exactly one of two sets, but not both."
   ]
  },
  {
   "cell_type": "code",
   "execution_count": 78,
   "metadata": {},
   "outputs": [
    {
     "data": {
      "text/plain": [
       "{'Artichoke', 'Asparagus', 'Aubergine', 'Banana', 'Cherry'}"
      ]
     },
     "execution_count": 78,
     "metadata": {},
     "output_type": "execute_result"
    }
   ],
   "source": [
    "this_set1 = {\"Apple\" ,\"Banana\" ,\"Cherry\"}\n",
    "\n",
    "this_set2 = {'Artichoke' ,'Aubergine','Asparagus','Apple'}\n",
    "\n",
    "this_set1.symmetric_difference(this_set2)"
   ]
  },
  {
   "cell_type": "markdown",
   "metadata": {},
   "source": [
    "# Problem Statement\n",
    "You are given a list called my_list. Using this list, you must create a tuple called my_tuple. The tuple will contain the list’s first element, last element, and the length of the list, in that same order."
   ]
  },
  {
   "cell_type": "code",
   "execution_count": 83,
   "metadata": {},
   "outputs": [
    {
     "name": "stdout",
     "output_type": "stream",
     "text": [
      "(34, 'asad', 7)\n"
     ]
    }
   ],
   "source": [
    "# \n",
    "my_list = [34, 82.6, \"Darth Vader\", 17, \"Hannibal\",12,'asad']\n",
    "first_element=my_list[0]\n",
    "last_element=my_list[-1]\n",
    "length=len(my_list)\n",
    "tup=tuple([first_element,last_element,length])\n",
    "print(tup)"
   ]
  },
  {
   "cell_type": "markdown",
   "metadata": {},
   "source": [
    "# Problem Statement\n",
    "Given a list of integers and a number k, find the kth maximum element in the list. The element will be stored in the kth_max variable."
   ]
  },
  {
   "cell_type": "code",
   "execution_count": 84,
   "metadata": {},
   "outputs": [
    {
     "name": "stdout",
     "output_type": "stream",
     "text": [
      "66\n"
     ]
    }
   ],
   "source": [
    "test_list = [40, 35, 82, 14, 22, 66, 53]\n",
    "k = 2\n",
    "\n",
    "test_list.sort()\n",
    "kth_max = test_list[-k]\n",
    "print(kth_max)"
   ]
  },
  {
   "cell_type": "markdown",
   "metadata": {},
   "source": [
    "# Problem Statement\n",
    "You must implement the count_low_high() function. Its parameter is a list of numbers.\n",
    "\n",
    "If a number is greater than 50 or divisible by 3, it will count as a high. If these conditions are not met, the number is considered a low.\n",
    "\n",
    "At the end of the function, you must return a list that contains the number of lows and highs, in that order.\n",
    "\n",
    "In case the list is empty, you may return None."
   ]
  },
  {
   "cell_type": "code",
   "execution_count": 88,
   "metadata": {},
   "outputs": [],
   "source": [
    "def count_low_high(list1):\n",
    "    high=0\n",
    "    low=0\n",
    "    for i in list1:\n",
    "        if i>50 or i%3==0:\n",
    "            high+=1\n",
    "        else:\n",
    "            low+=1\n",
    "    return list([low,high])"
   ]
  },
  {
   "cell_type": "code",
   "execution_count": 89,
   "metadata": {},
   "outputs": [
    {
     "data": {
      "text/plain": [
       "[1, 5]"
      ]
     },
     "execution_count": 89,
     "metadata": {},
     "output_type": "execute_result"
    }
   ],
   "source": [
    "count_low_high([51,56,6,5,89,56])"
   ]
  },
  {
   "cell_type": "markdown",
   "metadata": {},
   "source": [
    "# Python Standard Library"
   ]
  },
  {
   "cell_type": "markdown",
   "metadata": {},
   "source": [
    "The Python Standard Library, PSL, is a collection of pre-defined modules, or sets of methods which help us perform certain tasks in Python."
   ]
  },
  {
   "cell_type": "markdown",
   "metadata": {},
   "source": [
    "## importing module"
   ]
  },
  {
   "cell_type": "code",
   "execution_count": 97,
   "metadata": {},
   "outputs": [
    {
     "name": "stdout",
     "output_type": "stream",
     "text": [
      "2021-03-03\n",
      "2021-03-03 09:59:21.602740\n",
      "09:59:21\n"
     ]
    }
   ],
   "source": [
    "import datetime\n",
    "\n",
    "today_date=datetime.date.today()\n",
    "print(today_date)\n",
    "\n",
    "now_time=datetime.datetime.now()\n",
    "print(now_time)\n",
    "\n",
    "print(now_time.strftime(\"%H:%M:%S\"))"
   ]
  },
  {
   "cell_type": "markdown",
   "metadata": {},
   "source": [
    "# popular modules\n",
    "\n",
    "* math\n",
    "* heapq\n",
    "* random"
   ]
  }
 ],
 "metadata": {
  "kernelspec": {
   "display_name": "Python 3",
   "language": "python",
   "name": "python3"
  },
  "language_info": {
   "codemirror_mode": {
    "name": "ipython",
    "version": 3
   },
   "file_extension": ".py",
   "mimetype": "text/x-python",
   "name": "python",
   "nbconvert_exporter": "python",
   "pygments_lexer": "ipython3",
   "version": "3.7.3"
  }
 },
 "nbformat": 4,
 "nbformat_minor": 2
}
